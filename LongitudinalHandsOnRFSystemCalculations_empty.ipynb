{
 "cells": [
  {
   "cell_type": "markdown",
   "metadata": {},
   "source": [
    "# Basic design of RF systems"
   ]
  },
  {
   "cell_type": "markdown",
   "metadata": {},
   "source": [
    "S. Albright, H. Damerau, A. Lasheen, F. Tecker, C. Völlinger"
   ]
  },
  {
   "cell_type": "markdown",
   "metadata": {},
   "source": [
    "## Links"
   ]
  },
  {
   "cell_type": "markdown",
   "metadata": {},
   "source": [
    "- Introductory CAS wesite: https://indico.cern.ch/event/1117526/\n",
    "- Programme of the CAS: https://cas.web.cern.ch/sites/default/files/Timetable_Introductory2022_ver7.pdf\n",
    "- Python software installation for transverse (and longitudinal) exercises: https://github.com/cerncas/hands-on-lattice-exercises/blob/master/Setup_Instructions.md\n",
    "- Longitudinal hands-on, link to content and cheat sheets: https://indico.cern.ch/event/1117526/contributions/4978478/"
   ]
  },
  {
   "cell_type": "markdown",
   "metadata": {},
   "source": [
    "# Introduction"
   ]
  },
  {
   "cell_type": "markdown",
   "metadata": {},
   "source": [
    "In this hands-on session we will either\n",
    "- design the RF system of a proton synchrotron, the superconduding SPS (scSPS)\n",
    "- or develop the RF system for a hypothetical beam energy and current upgrade of an electron storage ring (Soleil).\n",
    "\n",
    "**Please make your choice according to your interest.**"
   ]
  },
  {
   "cell_type": "markdown",
   "metadata": {},
   "source": [
    "## Useful formula for bucket area reduction factor depending on stable phase\n",
    "- Bucket area reduction ratio depdening on stable phase\n",
    "- Use approximation (S. Y. Lee book, p. 242): $\\alpha(\\phi_\\mathrm{S}) \\simeq \\cfrac{1 - \\sin \\phi_\\mathrm{S}}{1 + \\sin \\phi_\\mathrm{S}}$"
   ]
  },
  {
   "cell_type": "markdown",
   "metadata": {},
   "source": [
    "## Import modules"
   ]
  },
  {
   "cell_type": "code",
   "execution_count": 1,
   "metadata": {},
   "outputs": [],
   "source": [
    "import matplotlib.pyplot as plt\n",
    "import numpy as np\n",
    "import scipy.constants as sciCont"
   ]
  },
  {
   "cell_type": "markdown",
   "metadata": {},
   "source": [
    "# Upgrade the CERN-SPS to higher energy as an injector for future circular colliders"
   ]
  },
  {
   "cell_type": "markdown",
   "metadata": {},
   "source": [
    "### Design an RF system optimized for the Superconducting Super Proton Synchrotron (scSPS)\n",
    "(see, e.g. <a href=\"https://indico.cern.ch/event/591312/contributions/2386529/attachments/1379193/2133450/scSPS_Note_v2.pdf\">F. Burkart et al., SPS energy upgrade considerations</a>)"
   ]
  },
  {
   "cell_type": "markdown",
   "metadata": {},
   "source": [
    "In this hands-on session we will design the RF system for a proton synchrotron.\n",
    "\n",
    "The goal of the session is to calculate the relevant longitudinal parameters.\n",
    "\n",
    "The notebook is constructed with the following purpose in mind:\n",
    "\n",
    "1. Design a linear acceleration cycle in bending field which determines average energy gain per turn and stable phase.\n",
    "2. Knowing energy gain per turn and the number of particles accelerated, the average RF power to the beam is calculated.\n",
    "3. Injection and extraction energies also fix the revolution frequencies and, in combination with the harmonic number, define the the RF frequency range.\n",
    "4. The acceleration of a bunch with a given size in the longitudinal phase space, i.e. longitudinal emttance, requires a sufficient bucket area. This area is defined by the RF voltage. Interesting effects occur around the energy of transiton crossing, which also deserves a more detailed look.\n",
    "5. With the knowledge of frequency and voltage the fundamental reqirements are set. Look for existing RF systems in particle accelerators and suggest your design. No calculations are needed for these parameter estimates. However please justify your choice(s).\n",
    "6. The energy transfer does not only take place from the cavity to the beam, but also the beam may induce significant voltage back into the cavity. This phenomenon has been introduced as beam loading.\n",
    "7. New RF systems for particle accelerators are rarely designed from scratch, but inspired by existing installations. Compare your RF system design with the existing one of the CERN SPS, as well as with the RF system of the now-decommissioned Tevatron, or any other RF system you may find."
   ]
  },
  {
   "cell_type": "markdown",
   "metadata": {},
   "source": [
    "**Basic parameters of the superconducting Proton Synchrotron (scSPS) at CERN**\n",
    "\n",
    "| Parameter                        |                                                                     |\n",
    "| -------------------------------- | ------------------------------------------------------------------- |\n",
    "| Energy range                     | $E_\\mathrm{kin} = 13.1\\,\\mathrm{GeV}\\ldots1300\\,\\mathrm{GeV}$       |\n",
    "| Circumference                    | $2 \\pi R = 6911.5\\,\\mathrm{m}$                                      |\n",
    "| Bending radius                   | $\\rho = 741.3\\,\\mathrm{m}$                                          |\n",
    "| Transition gamma                 | $\\gamma_\\mathrm{tr} = 18$                                           |\n",
    "| Acceleration time                | $4\\,\\mathrm{s}$                                                     |\n",
    "| Longitudinal emittance per bunch | $\\varepsilon_\\mathrm{l} = 0.4\\,\\mathrm{eVs}\\ldots0.5\\,\\mathrm{eVs}$ |\n",
    "| Maximum bucket filling factor    | $\\varepsilon_\\mathrm{l}/A_\\mathrm{bucket} = 0.8$                    |\n",
    "| Total beam intensity             | $N = 1 \\cdot 10^{13} \\,\\mathrm{protons}$                            |\n",
    "| Minimum bunch spacing            | $25 \\,\\mathrm{ns}$                                                  |"
   ]
  },
  {
   "cell_type": "markdown",
   "metadata": {},
   "source": [
    "## Exercise 1: Average energy gain and stable phase"
   ]
  },
  {
   "cell_type": "markdown",
   "metadata": {},
   "source": [
    "- How much energy does the particle gain during each turn assuming a constant ramp rate in bending field, $B$?\n",
    "    - Assume a linear acceleration ramp $dB/dt = \\mathrm{const.}$\n",
    "- What would the stable phase be for an RF voltage of 20 MV? "
   ]
  },
  {
   "cell_type": "markdown",
   "metadata": {},
   "source": [
    "### Answer:\n",
    "$$\n",
    "\\Delta E_{\\text{turn}} = 2\\pi q\\rho R\\dot B = (2\\pi R)\\times \\rho \\times q\\frac{dB}{dt}\n",
    "$$\n",
    "\n",
    "$$\n",
    "R_{\\text{mag. rig.}} = B\\rho = \\frac{pc}q\n",
    "$$\n",
    "\n",
    "$$\n",
    "p/q = B\\rho\n",
    "$$\n",
    "\n",
    "KE -> Momentum\n",
    "\n",
    "$$\n",
    "T_E = E_p + E_k = + m_0c^2\n",
    "$$\n",
    "\n",
    "$$\n",
    "1300^2 = (pc)^2 + E_0^2 = (pc)^2 + (m_0c^2)^2\n",
    "$$\n",
    "\n",
    "$$\n",
    "\\therefore p = \\sqrt{{E_T^2 - m_0^2}}\n"
   ]
  },
  {
   "cell_type": "code",
   "execution_count": 34,
   "metadata": {},
   "outputs": [
    {
     "name": "stdout",
     "output_type": "stream",
     "text": [
      "Delta E per turn = 7412186.539410733 eV\n"
     ]
    }
   ],
   "source": [
    "CIRCUMFERENCE = 6911.5\n",
    "RADIUS = 741.3\n",
    "\n",
    "ENERGY_GAIN = 1300E9 - 13.1E9\n",
    "RAMP_TIME = 4\n",
    "\n",
    "PROTON_MASS = 938E6\n",
    "\n",
    "INJ_MOMENTUM = np.sqrt( (13.1E9 + PROTON_MASS)**2 - PROTON_MASS**2)\n",
    "\n",
    "EXT_MOMENTUM = np.sqrt( (1300E9 + PROTON_MASS)**2 - PROTON_MASS**2)\n",
    "\n",
    "INJ_B = (INJ_MOMENTUM / (RADIUS * 1)) / 3E8\n",
    "\n",
    "EXT_B = (EXT_MOMENTUM / (RADIUS * 1)) / 3E8\n",
    "\n",
    "DELTA_B = EXT_B - INJ_B\n",
    "\n",
    "DELTA_ENERGY_PER_TURN = CIRCUMFERENCE * RADIUS * (DELTA_B / RAMP_TIME)\n",
    "\n",
    "print(f'Delta E per turn = {DELTA_ENERGY_PER_TURN} eV')"
   ]
  },
  {
   "cell_type": "markdown",
   "metadata": {},
   "source": [
    "## Exercise 2: Power transfer to the beam"
   ]
  },
  {
   "cell_type": "markdown",
   "metadata": {},
   "source": [
    "- How much power is transferred from the RF system to the beam?"
   ]
  },
  {
   "cell_type": "markdown",
   "metadata": {},
   "source": [
    "### Answer\n",
    "\n",
    "$$\n",
    "P_\\text{transferred} = \\text{Energy per turn} \\times \\text{Time per turn} \\times \\text{Number turns}\n",
    "$$"
   ]
  },
  {
   "cell_type": "code",
   "execution_count": 41,
   "metadata": {},
   "outputs": [
    {
     "name": "stdout",
     "output_type": "stream",
     "text": [
      "Power transferred = DeltaE / T * Nprotons\t=\t514760.0 J/s\n",
      "\t\t\t\t\t\t\t\t\t\t0.51476 MJ/s\n"
     ]
    }
   ],
   "source": [
    "ENERGY_CHANGE_PER_TIME = ENERGY_GAIN / RAMP_TIME\n",
    "N_PROTONS = 1E13\n",
    "\n",
    "POWER_eV = ENERGY_CHANGE_PER_TIME * N_PROTONS\n",
    "POWER_J = POWER_eV * 1.6E-19\n",
    "\n",
    "print(f'Power transferred = DeltaE / T * Nprotons\\t=\\t{POWER_J} J/s')\n",
    "print(f\"\\t\\t\\t\\t\\t\\t\\t\\t\\t\\t{POWER_J*1e-6} MJ/s\")"
   ]
  },
  {
   "cell_type": "markdown",
   "metadata": {},
   "source": [
    "## Exercise 3: RF frequency and harmonic"
   ]
  },
  {
   "cell_type": "markdown",
   "metadata": {},
   "source": [
    "- Choose RF frequency and harmonic of the RF system.\n",
    "- Note a few arguments for your choice.\n",
    "- What is the frequency range of the RF system?\n",
    "\n",
    "25 ns bunch spacing\n",
    "at least 1/25ns lower bound\n",
    "\n",
    "and 11 and 20 and 6\n",
    "\n",
    "so a multiple of 52.8\n",
    "\n",
    "Pick 5.28 MHz - not super high frequency requiring huge gradients, but high enough to be efficient"
   ]
  },
  {
   "cell_type": "code",
   "execution_count": null,
   "metadata": {},
   "outputs": [],
   "source": []
  },
  {
   "cell_type": "markdown",
   "metadata": {},
   "source": [
    "## Exercise 4: Calculate bucket area during the cycle, determine RF voltage along the cycle"
   ]
  },
  {
   "cell_type": "markdown",
   "metadata": {},
   "source": [
    "- Plot momentum, kinetic energy and revolution frequency (and/or further parameters) during the cycle.\n",
    "- Calculate and plot the bucket area along the cycle and choose an RF voltage such that a bunch with $0.45\\,\\mathrm{eVs}$ longitudinal emittance can be comfortably accelerated, e.g $\\varepsilon_\\mathrm{l}/A_\\mathrm{bucket} \\simeq 0.8$.\n",
    "- Zoom around transition crossing. What happens there?"
   ]
  },
  {
   "cell_type": "markdown",
   "metadata": {},
   "source": [
    "#### Bucket area reduction factor"
   ]
  },
  {
   "cell_type": "code",
   "execution_count": 2,
   "metadata": {},
   "outputs": [],
   "source": [
    "def reduction_ratio(deltaE, voltage):    \n",
    "    phis = np.arcsin(deltaE/voltage)\n",
    "    return (1-np.sin(phis))/(1+np.sin(phis))"
   ]
  },
  {
   "cell_type": "markdown",
   "metadata": {},
   "source": [
    "## Exercise 5: RF cavity, number of cavities, RF amplifier power"
   ]
  },
  {
   "cell_type": "markdown",
   "metadata": {},
   "source": [
    "- Choose an approriate type of RF cavity.\n",
    "- How many cavities would you install?\n",
    "- Please note some arguments for the discussion.\n",
    "- Also have a look at the Tevatron RF system."
   ]
  },
  {
   "cell_type": "markdown",
   "metadata": {},
   "source": [
    "## Exercise 6: Requirements for beam loading"
   ]
  },
  {
   "cell_type": "markdown",
   "metadata": {},
   "source": [
    "- What is the beam induced voltage and power due to the passage of one bunch?\n",
    "- Under which circumstances do you really need that power?"
   ]
  },
  {
   "cell_type": "markdown",
   "metadata": {},
   "source": [
    "- This additional power would be needed to fully compensate beam loading and operate the cavity at any phase"
   ]
  },
  {
   "cell_type": "markdown",
   "metadata": {},
   "source": [
    "## Exercise 7: Comparison with RF systems present SPS and at Fermilab Tevatron"
   ]
  },
  {
   "cell_type": "markdown",
   "metadata": {},
   "source": [
    "- Compare the parameters of your RF system with the ones of the present SPS and the Tevatron."
   ]
  },
  {
   "cell_type": "markdown",
   "metadata": {},
   "source": [
    "# Design of an RF system upgrade for an electron storage ring"
   ]
  },
  {
   "cell_type": "markdown",
   "metadata": {},
   "source": [
    "### Design an RF system to run the Soleil electron storage ringe at higher energy and beam current"
   ]
  },
  {
   "cell_type": "markdown",
   "metadata": {},
   "source": [
    "In this hands-on session we will develop the RF system for a hypothetical beam energy and current upgrade for an electron storage ring (Soleil). As a storage ring the particle energy should just be kept constant.\n",
    "\n",
    "The goal of the session is to calculate the relevant longitudinal parameters.\n",
    "\n",
    "The notebook is constructed with the following purpose in mind:\n",
    "\n",
    "1. Start from the dominating energy loss per turn due to synchrotron radiation.\n",
    "2. Knowing energy loss per turn and the number of particles stored the average RF power to the beam is calculated.\n",
    "3. The RF frequency can be any integer multiple of the revolution frequency. Collect arguments for the choice of the RF frequency.\n",
    "4. With the knowledge of frequency and voltage the fundamental reqirements are set. Look for existing RF systems in particle accelerators and suggest your design. No calculations are needed for these parameter estimates. However please justify your choice(s).\n",
    "5. The energy transfer does not only take place from the cavity to the beam, but also the beam may induce significant voltage back into the cavity. This phenomenon has been introduced as beam loading.\n",
    "6. Without the RF system, the beam quickly loses energy. It is interesting to estimate how many turns it would survive and how rapidly its energy decreases.\n",
    "7. Synchrotron radiation has the advantage of introducing damping and any oscillations of particles  reduced. The characteristic timescale of that process is the synchrotron radiation damping time.\n",
    "8. New RF systems for particle accelerators are rarely designed from scratch, but inspired by existing installations. Compare your RF system design with the existing one of Soleil, as well as with the RF system of the larger ESRF main ring."
   ]
  },
  {
   "cell_type": "markdown",
   "metadata": {},
   "source": [
    "Key upgrade parameters:\n",
    "- Higher energy: $2.75\\,\\mathrm{GeV}$ instead of ($3.5\\,\\mathrm{GeV}$).\n",
    "- Higher beam current: $800\\,\\mathrm{mA}$ instead of $500\\,\\mathrm{mA}$.\n",
    "- Bunch spacing of $25\\,\\mathrm{ns}$.\n",
    "- Design the new RF system which can work in combination with the existing one."
   ]
  },
  {
   "cell_type": "markdown",
   "metadata": {},
   "source": [
    "**Basic parameters of the Soleil electron storage ring ([parameter table](https://www.synchrotron-soleil.fr/en/research/sources-and-accelerators/parameters-accelerators-storage-ring))**\n",
    "\n",
    "| Parameter             |                                                                   |\n",
    "| --------------------- | ----------------------------------------------------------------- |\n",
    "| Beam energy           | $E = 2.75\\,\\mathrm{GeV}\\rightarrow 3.5\\,\\mathrm{GeV}$             |\n",
    "| Beam current          | $I_\\mathrm{b} = 500\\,\\mathrm{mA} \\rightarrow 800\\,\\mathrm{mA}$    |\n",
    "| Circumference         | $2 \\pi R = 354.097\\,\\mathrm{m}$                                   |\n",
    "| Bending radius        | $\\rho = 5.36\\,\\mathrm{m}$                                         |\n",
    "| Phase slip factor     | $\\eta = 1/\\gamma^2_\\mathrm{tr} - 1/\\gamma^2 = 4.16 \\cdot 10^{-4}$ |\n",
    "| Harmonic of RF system | $h = 416$                                                         |\n",
    "| RF frequency          | $f_\\mathrm{RF} = 352.2\\,\\mathrm{MHz}$                             |"
   ]
  },
  {
   "cell_type": "markdown",
   "metadata": {},
   "source": [
    "## Exercise 1: Average energy loss per turn"
   ]
  },
  {
   "cell_type": "markdown",
   "metadata": {},
   "source": [
    "- Calculate the average energy loss per turn to be restituted before and after the upgrade.\n",
    "- Plot the energy loss versus beam energy."
   ]
  },
  {
   "cell_type": "markdown",
   "metadata": {},
   "source": [
    "## Exercise 2: Average RF power"
   ]
  },
  {
   "cell_type": "markdown",
   "metadata": {},
   "source": [
    "- What is the average power to the beam before and after the upgrade?\n",
    "- Plot the required RF power versus beam energy.\n",
    "- Why should the installed RF power actually be higher?"
   ]
  },
  {
   "cell_type": "markdown",
   "metadata": {},
   "source": [
    "## Exercise 3: Chose RF frequency. Arguments?"
   ]
  },
  {
   "cell_type": "markdown",
   "metadata": {},
   "source": [
    "- Choose the RF frequency and harmonic of the additional RF system.\n",
    "- Note a few arguments supporting your choice."
   ]
  },
  {
   "cell_type": "markdown",
   "metadata": {},
   "source": [
    "- Must be integer harmonic of existing RF system ($h=416$)\n",
    "- Chose twice that frequency ($h=832$, $f_\\mathrm{RF} = 704$ MHz) to generate additional voltage more easily and with compact cavities"
   ]
  },
  {
   "cell_type": "markdown",
   "metadata": {},
   "source": [
    "## Exercise 4: RF cavity, number of cavities, RF amplifier power"
   ]
  },
  {
   "cell_type": "markdown",
   "metadata": {},
   "source": [
    "- Choose an approriate type of RF cavity.\n",
    "- How many cavities would you install?\n",
    "- Please note some arguments for the discussion."
   ]
  },
  {
   "cell_type": "markdown",
   "metadata": {},
   "source": [
    "## Exercise 5: Requirements for beam loading: beam induced voltage and power"
   ]
  },
  {
   "cell_type": "markdown",
   "metadata": {},
   "source": [
    "- Calculate the beam induced voltage and power in the additional cavity.\n",
    "- How does the power compare to the power lost by synchrotron radiation?\n",
    "- Under which circumstances do you really need that power?"
   ]
  },
  {
   "cell_type": "markdown",
   "metadata": {},
   "source": [
    "## Exercise 6: Beam life time with no RF"
   ]
  },
  {
   "cell_type": "markdown",
   "metadata": {},
   "source": [
    "- How many turns would the beam survive without RF? For a first estimate one can assume a constant energy loss. The momentum acceptance is on the order of 0.5%.\n",
    "- Optionally: take into account the energy loss per turn changes with beam energy.\n",
    "- Plot the beam energy versus number of turns."
   ]
  },
  {
   "cell_type": "markdown",
   "metadata": {},
   "source": [
    "## Exercise 7: Radiation damping time"
   ]
  },
  {
   "cell_type": "markdown",
   "metadata": {},
   "source": [
    "- Calculate the damping times of the synchrotron oscillations before and after the upgrade."
   ]
  },
  {
   "cell_type": "markdown",
   "metadata": {},
   "source": [
    "## Exercise 8: Comparison with RF system at ESRF"
   ]
  },
  {
   "cell_type": "markdown",
   "metadata": {},
   "source": [
    "- Compare the parameters of the (additional) RF system with the one of the storage ring at ESRF."
   ]
  }
 ],
 "metadata": {
  "kernelspec": {
   "display_name": "Python 3.9.2 ('benchmarking')",
   "language": "python",
   "name": "python3"
  },
  "language_info": {
   "codemirror_mode": {
    "name": "ipython",
    "version": 3
   },
   "file_extension": ".py",
   "mimetype": "text/x-python",
   "name": "python",
   "nbconvert_exporter": "python",
   "pygments_lexer": "ipython3",
   "version": "3.9.2"
  },
  "vscode": {
   "interpreter": {
    "hash": "f8303f5a6afae70f6b859a6209849c3c60fbfa32f1e0a8f5f4e38f7082b57ed2"
   }
  }
 },
 "nbformat": 4,
 "nbformat_minor": 4
}
